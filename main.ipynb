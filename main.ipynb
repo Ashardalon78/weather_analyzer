{
 "cells": [
  {
   "cell_type": "code",
   "execution_count": 2,
   "id": "448fe36a",
   "metadata": {},
   "outputs": [
    {
     "name": "stdout",
     "output_type": "stream",
     "text": [
      "Launching server at http://localhost:55464\n",
      "Calculating time series for temperature_2m_max with period=120\n",
      "Calculating time series for temperature_2m_min with period=120\n",
      "Calculating time series for temperature_2m_mean with period=120\n",
      "Calculating time series for rain_sum with period=120\n",
      "Calculating time series for snowfall_sum with period=120\n",
      "Calculating time series for windspeed_10m_max with period=120\n",
      "Calculating time series for shortwave_radiation_sum with period=120\n"
     ]
    }
   ],
   "source": [
    "from analyse_weatherdata.class_weather_dashboard import WeatherDashboard\n",
    "weather_dashboard = WeatherDashboard()"
   ]
  },
  {
   "cell_type": "code",
   "execution_count": null,
   "id": "5ed6fe60",
   "metadata": {},
   "outputs": [],
   "source": []
  }
 ],
 "metadata": {
  "kernelspec": {
   "display_name": "venv_weather_analyser",
   "language": "python",
   "name": "venv_weather_analyser"
  },
  "language_info": {
   "codemirror_mode": {
    "name": "ipython",
    "version": 3
   },
   "file_extension": ".py",
   "mimetype": "text/x-python",
   "name": "python",
   "nbconvert_exporter": "python",
   "pygments_lexer": "ipython3",
   "version": "3.11.2"
  }
 },
 "nbformat": 4,
 "nbformat_minor": 5
}
