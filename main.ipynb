{
 "cells": [
  {
   "cell_type": "code",
   "execution_count": 2,
   "id": "448fe36a",
   "metadata": {},
   "outputs": [],
   "source": [
    "from analyse_weatherdata.class_weather_dashboard import WeatherDashboard\n",
    "weather_dashboard = WeatherDashboard()\n",
    "weather_dashboard.template.servable()"
   ]
  },
  {
   "cell_type": "code",
   "execution_count": null,
   "id": "5ed6fe60",
   "metadata": {},
   "outputs": [],
   "source": []
  }
 ],
 "metadata": {
  "kernelspec": {
   "display_name": "venv_weather_analyser",
   "language": "python",
   "name": "venv_weather_analyser"
  },
  "language_info": {
   "codemirror_mode": {
    "name": "ipython",
    "version": 3
   },
   "file_extension": ".py",
   "mimetype": "text/x-python",
   "name": "python",
   "nbconvert_exporter": "python",
   "pygments_lexer": "ipython3",
   "version": "3.11.2"
  }
 },
 "nbformat": 4,
 "nbformat_minor": 5
}
