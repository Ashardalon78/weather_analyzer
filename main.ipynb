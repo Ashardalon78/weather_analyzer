{
 "cells": [
  {
   "cell_type": "code",
   "execution_count": 3,
   "id": "448fe36a",
   "metadata": {},
   "outputs": [],
   "source": [
    "#from analyse_weatherdata.class_weather_dashboard import WeatherDashboard\n",
    "#weather_dashboard = WeatherDashboard()\n",
    "#weather_dashboard.template.servable()\n",
    "\n",
    "# app.py\n",
    "import panel as pn\n",
    "pn.extension()\n",
    "\n",
    "def greet_callback(event):\n",
    "    name = name_input.value\n",
    "    #greeting.text = greet(name)\n",
    "    greeting.value = greet(name)\n",
    "\n",
    "def greet(name):\n",
    "    return f\"Hello, {name}!\"\n",
    "\n",
    "name_input = pn.widgets.TextInput(name='Enter your name:')\n",
    "greet_button = pn.widgets.Button(name='Greet', button_type='primary')\n",
    "greet_button.on_click(greet_callback)\n",
    "\n",
    "greeting = pn.widgets.StaticText()\n",
    "\n",
    "app = pn.Column(name_input, greet_button, greeting)\n",
    "\n",
    "# Serve the app\n",
    "app.servable()"
   ]
  },
  {
   "cell_type": "code",
   "execution_count": null,
   "id": "5ed6fe60",
   "metadata": {},
   "outputs": [],
   "source": []
  }
 ],
 "metadata": {
  "kernelspec": {
   "display_name": "venv_weather_analyser",
   "language": "python",
   "name": "venv_weather_analyser"
  },
  "language_info": {
   "codemirror_mode": {
    "name": "ipython",
    "version": 3
   },
   "file_extension": ".py",
   "mimetype": "text/x-python",
   "name": "python",
   "nbconvert_exporter": "python",
   "pygments_lexer": "ipython3",
   "version": "3.11.2"
  }
 },
 "nbformat": 4,
 "nbformat_minor": 5
}
